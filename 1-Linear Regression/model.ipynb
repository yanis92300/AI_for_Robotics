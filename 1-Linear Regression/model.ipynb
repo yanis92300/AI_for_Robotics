{
 "cells": [
  {
   "cell_type": "code",
   "execution_count": 14,
   "metadata": {},
   "outputs": [],
   "source": [
    "import numpy as np\n",
    "import pandas as pd\n",
    "import matplotlib.pyplot as plt\n"
   ]
  },
  {
   "cell_type": "code",
   "execution_count": 15,
   "metadata": {},
   "outputs": [
    {
     "name": "stdout",
     "output_type": "stream",
     "text": [
      "          x         y\n",
      "0  0.000000  0.685785\n",
      "1  0.020202  1.671735\n",
      "2  0.040404  2.406276\n",
      "3  0.060606  0.375167\n",
      "4  0.080808  4.355949\n",
      "(100, 2)\n"
     ]
    }
   ],
   "source": [
    "columns=['x','y']\n",
    "dataset=pd.read_csv(\"data_lab1.txt\",names=columns,sep=' ')\n",
    "print(dataset.head())\n",
    "print(dataset.shape)"
   ]
  },
  {
   "cell_type": "code",
   "execution_count": 16,
   "metadata": {},
   "outputs": [
    {
     "data": {
      "text/plain": [
       "Text(0, 0.5, 'y')"
      ]
     },
     "execution_count": 16,
     "metadata": {},
     "output_type": "execute_result"
    },
    {
     "data": {
      "image/png": "[encoded data removed]",
      "text/plain": [
       "<Figure size 432x288 with 1 Axes>"
      ]
     },
     "metadata": {
      "needs_background": "light"
     },
     "output_type": "display_data"
    }
   ],
   "source": [
    "dataset.plot(kind='scatter',x='x',y='y',color='red')\n",
    "plt.xlabel('x')\n",
    "plt.ylabel('y')"
   ]
  },
  {
   "cell_type": "code",
   "execution_count": 17,
   "metadata": {},
   "outputs": [],
   "source": [
    "\n",
    "x=np.asarray(dataset['x'])\n",
    "y=np.asarray(dataset['y'])\n"
   ]
  },
  {
   "cell_type": "code",
   "execution_count": 18,
   "metadata": {},
   "outputs": [],
   "source": [
    "train_size = int(0.7 * len(dataset))\n",
    "Xtrain=x[:train_size]\n",
    "Xtest=x[train_size:]\n",
    "Xtrain=Xtrain.reshape(Xtrain.shape[0],1)\n",
    "Xtest= Xtest.reshape(Xtest.shape[0], 1)\n"
   ]
  },
  {
   "cell_type": "code",
   "execution_count": 19,
   "metadata": {},
   "outputs": [],
   "source": [
    "Ytrain=y[:train_size]\n",
    "Ytest=y[train_size:]\n",
    "Ytrain=Ytrain.reshape(Ytrain.shape[0],1)\n",
    "Ytest= Ytest.reshape(Ytest.shape[0], 1)"
   ]
  },
  {
   "cell_type": "code",
   "execution_count": 20,
   "metadata": {},
   "outputs": [],
   "source": [
    "bias = np.ones((70, 1))\n",
    "Xbar = np.concatenate((bias, Xtrain), axis=1)\n"
   ]
  },
  {
   "cell_type": "code",
   "execution_count": 21,
   "metadata": {},
   "outputs": [
    {
     "data": {
      "text/plain": [
       "(2, 1)"
      ]
     },
     "execution_count": 21,
     "metadata": {},
     "output_type": "execute_result"
    }
   ],
   "source": [
    "Theta=np.random.rand(2,1)\n",
    "Theta.shape\n",
    "\n"
   ]
  },
  {
   "cell_type": "code",
   "execution_count": null,
   "metadata": {},
   "outputs": [],
   "source": []
  },
  {
   "cell_type": "code",
   "execution_count": 22,
   "metadata": {},
   "outputs": [],
   "source": [
    "# Ytrain=np.dot(Xbar,Theta)\n"
   ]
  },
  {
   "cell_type": "code",
   "execution_count": 23,
   "metadata": {},
   "outputs": [],
   "source": [
    "lr=0.001\n",
    "threshold = 0.0001"
   ]
  },
  {
   "cell_type": "code",
   "execution_count": 24,
   "metadata": {},
   "outputs": [],
   "source": [
    "\n",
    "\n",
    "def error(xbar,theta):\n",
    "    erreur = 0.5*np.sum((np.dot(xbar,theta)-Ytrain)**2)\n",
    "    # print(erreur)\n",
    "    return erreur\n"
   ]
  },
  {
   "cell_type": "code",
   "execution_count": null,
   "metadata": {},
   "outputs": [],
   "source": []
  },
  {
   "cell_type": "code",
   "execution_count": 25,
   "metadata": {},
   "outputs": [],
   "source": [
    "# def grad(xbar,theta,y,i):\n",
    "    \n",
    "#     # np.sum(np.dot(Xbar,Theta)-y)\n",
    "#     Xbar[i]\n",
    "#     return 1 "
   ]
  },
  {
   "cell_type": "markdown",
   "metadata": {},
   "source": [
    "<h1> BGD"
   ]
  },
  {
   "cell_type": "code",
   "execution_count": 26,
   "metadata": {},
   "outputs": [],
   "source": [
    "errors = []\n",
    "\n",
    "E = error(Xbar,Theta)\n",
    "deltaE = 1000000\n",
    "itera=0\n",
    "while(deltaE>threshold):\n",
    "    itera +=1\n",
    "    # for n in range(0,1):\n",
    "    #     for i in range(0,70):\n",
    "    #         Theta = Theta-lr*grad(Xbar, Theta, Ytrain, i,n)\n",
    "    Theta=Theta-lr*np.dot(Xbar.T,(np.dot(Xbar,Theta)-Ytrain))    \n",
    "    Enew = error(Xbar, Theta)\n",
    "    deltaE = abs(E-Enew)\n",
    "    E= Enew\n",
    "    errors.append(E)\n",
    "\n",
    "plt.plot(errors)"
   ]
  },
  {
   "cell_type": "markdown",
   "metadata": {},
   "source": [
    "<h1> SGD"
   ]
  },
  {
   "cell_type": "code",
   "execution_count": 27,
   "metadata": {},
   "outputs": [
    {
     "data": {
      "text/plain": [
       "[<matplotlib.lines.Line2D at 0x19a5a5a93d0>]"
      ]
     },
     "execution_count": 27,
     "metadata": {},
     "output_type": "execute_result"
    },
    {
     "data": {
      "image/png": "[encoded data removed]",
      "text/plain": [
       "<Figure size 432x288 with 1 Axes>"
      ]
     },
     "metadata": {
      "needs_background": "light"
     },
     "output_type": "display_data"
    }
   ],
   "source": [
    "errors = []\n",
    "\n",
    "E = error(Xbar, Theta)\n",
    "deltaE = 1000000\n",
    "itera=0\n",
    "while(deltaE >threshold):\n",
    "    itera+=1\n",
    "    # stochastic gradient descent\n",
    "    for i in range(0,70):\n",
    "        Xi = Xbar[i,:].reshape(1,2)\n",
    "        Yi = y[i]\n",
    "        gradE = np.dot(Xi.T, (np.dot(Xi, Theta)-Yi))\n",
    "        Theta = Theta - lr*gradE\n",
    "    Enew = error(Xbar, Theta)\n",
    "    deltaE = abs(Enew-E)\n",
    "    E = Enew\n",
    "    errors.append(E)\n",
    "\n",
    "plt.plot(errors)\n",
    "\n"
   ]
  },
  {
   "cell_type": "code",
   "execution_count": 29,
   "metadata": {},
   "outputs": [
    {
     "data": {
      "text/plain": [
       "array([[0.18763866],\n",
       "       [8.26760735]])"
      ]
     },
     "execution_count": 29,
     "metadata": {},
     "output_type": "execute_result"
    }
   ],
   "source": [
    "from numpy.linalg import inv \n",
    "Theta = np.dot(np.dot(inv(np.dot(Xbar.T,Xbar)),Xbar.T),Ytrain)\n"
   ]
  }
 ],
 "metadata": {
  "kernelspec": {
   "display_name": "Python 3.9.7 64-bit",
   "language": "python",
   "name": "python3"
  },
  "language_info": {
   "codemirror_mode": {
    "name": "ipython",
    "version": 3
   },
   "file_extension": ".py",
   "mimetype": "text/x-python",
   "name": "python",
   "nbconvert_exporter": "python",
   "pygments_lexer": "ipython3",
   "version": "3.9.7"
  },
  "orig_nbformat": 4,
  "vscode": {
   "interpreter": {
    "hash": "81794d4967e6c3204c66dcd87b604927b115b27c00565d3d43f05ba2f3a2cb0d"
   }
  }
 },
 "nbformat": 4,
 "nbformat_minor": 2
}
