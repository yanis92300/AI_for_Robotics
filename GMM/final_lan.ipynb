{
 "cells": [
  {
   "cell_type": "code",
   "execution_count": 4,
   "metadata": {},
   "outputs": [],
   "source": [
    "import numpy as np\n",
    "import matplotlib.pyplot as plt\n",
    "from matplotlib.colors import LogNorm\n",
    "import scipy as sp\n",
    "from sklearn import mixture\n"
   ]
  },
  {
   "cell_type": "markdown",
   "metadata": {},
   "source": [
    "SCI-KIT LEARN"
   ]
  },
  {
   "cell_type": "code",
   "execution_count": 5,
   "metadata": {},
   "outputs": [],
   "source": [
    "n_samples = 300\n",
    "# generate random sample, two components\n",
    "np.random.seed(0)\n",
    "# generate spherical data centered on (20, 20)\n",
    "shifted_gaussian = np.random.randn(n_samples, 2) + np.array([20, 20])\n",
    "# generate zero centered stretched Gaussian data\n",
    "C = np.array([[0., -0.7], [3.5, .7]])\n",
    "stretched_gaussian = np.dot(np.random.randn(n_samples, 2), C)\n",
    "# concatenate the two datasets into the final training set\n",
    "X_train = np.vstack([shifted_gaussian, stretched_gaussian])\n"
   ]
  },
  {
   "cell_type": "code",
   "execution_count": 6,
   "metadata": {},
   "outputs": [
    {
     "data": {
      "text/plain": [
       "GaussianMixture(n_components=2)"
      ]
     },
     "execution_count": 6,
     "metadata": {},
     "output_type": "execute_result"
    }
   ],
   "source": [
    "# fit a Gaussian Mixture Model with two components\n",
    "clf = mixture.GaussianMixture(n_components=2, covariance_type='full')\n",
    "clf.fit(X_train)\n"
   ]
  },
  {
   "cell_type": "code",
   "execution_count": 7,
   "metadata": {},
   "outputs": [
    {
     "data": {
      "text/plain": [
       "<matplotlib.collections.PathCollection at 0x2fd5f4487c0>"
      ]
     },
     "execution_count": 7,
     "metadata": {},
     "output_type": "execute_result"
    },
    {
     "data": {
      "image/png": "[encoded data removed]",
      "text/plain": [
       "<Figure size 432x288 with 1 Axes>"
      ]
     },
     "metadata": {
      "needs_background": "light"
     },
     "output_type": "display_data"
    }
   ],
   "source": [
    "plt.scatter(X_train[:, 0], X_train[:, 1], .8)\n"
   ]
  },
  {
   "cell_type": "code",
   "execution_count": 17,
   "metadata": {},
   "outputs": [
    {
     "data": {
      "image/png": "[encoded data removed]",
      "text/plain": [
       "<Figure size 432x288 with 1 Axes>"
      ]
     },
     "metadata": {
      "needs_background": "light"
     },
     "output_type": "display_data"
    }
   ],
   "source": [
    "# display predicted scores by the model as a contour plot\n",
    "x = np.linspace(-20., 30.)\n",
    "y = np.linspace(-20., 40.)\n",
    "X, Y = np.meshgrid(x, y)\n",
    "XX = np.array([X.ravel(), Y.ravel()]).T\n",
    "Z = -clf.score_samples(XX)\n",
    "Z = Z.reshape(X.shape)\n",
    "CS = plt.contour(X, Y, Z, norm=LogNorm(vmin=1.0, vmax=1000.0),\n",
    "                 levels=np.logspace(0, 3, 10))\n",
    "CB = plt.colorbar(CS, shrink=0.8, extend='both')\n",
    "plt.scatter(X_train[:, 0], X_train[:, 1], .8)\n",
    "# plt.title('Negative log-likelihood predicted by a GMM')\n",
    "# plt.axis('tight')\n",
    "plt.show()\n"
   ]
  },
  {
   "cell_type": "code",
   "execution_count": 9,
   "metadata": {},
   "outputs": [
    {
     "name": "stdout",
     "output_type": "stream",
     "text": [
      "mean [[19.91453549 19.97556345]\n",
      " [-0.13607006 -0.07059606]]\n",
      "--------------\n",
      "sigma [[[1.02179964e+00 3.28158679e-03]\n",
      "  [3.28158679e-03 9.90375215e-01]]\n",
      "\n",
      " [[1.13328040e+01 2.25048269e+00]\n",
      "  [2.25048269e+00 8.77009968e-01]]]\n"
     ]
    }
   ],
   "source": [
    "print(\"mean\", clf.means_)\n",
    "print(\"--------------\")\n",
    "print(\"sigma\", clf.covariances_)\n"
   ]
  },
  {
   "cell_type": "code",
   "execution_count": 10,
   "metadata": {},
   "outputs": [],
   "source": [
    "class GMM(object):\n",
    "    def __init__(self, X, k=2):\n",
    "        # dimension\n",
    "        X = np.asarray(X)\n",
    "        self.m, self.n = X.shape\n",
    "        self.data = X.copy()\n",
    "        # number of mixtures\n",
    "        self.k = k\n",
    "\n",
    "    def _init(self):\n",
    "        # init mixture means/sigmas\n",
    "        self.mean_arr = np.asmatrix(np.random.random((self.k, self.n)))\n",
    "        self.sigma_arr = np.array(\n",
    "            [np.asmatrix(np.identity(self.n)) for i in range(self.k)])\n",
    "        self.phi = np.ones(self.k)/self.k\n",
    "        self.w = np.asmatrix(np.empty((self.m, self.k), dtype=float))\n",
    "        #print(self.mean_arr)\n",
    "        #print(self.sigma_arr)\n",
    "\n",
    "    # def fit(self, delta=1e-4):\n",
    "    #     self._init()\n",
    "    #     num_iters = 0\n",
    "    #     ll = 1\n",
    "    #     previous_ll = 0\n",
    "    #     while(ll-previous_ll > delta):\n",
    "    #         previous_ll = self.loglikelihood()\n",
    "    #         self._fit()\n",
    "    #         num_iters += 1\n",
    "    #         ll = self.loglikelihood()\n",
    "    #         print('Iteration %d: log-likelihood is %.6f' % (num_iters, ll))\n",
    "    #     print('Terminate at %d-th iteration:log-likelihood is %.6f' %\n",
    "    #           (num_iters, ll))\n",
    "\n",
    "    def fit(self):\n",
    "        self._init()\n",
    "        num_iters = 0\n",
    "        ll = 1\n",
    "        previous_ll = 0\n",
    "        for i in range(10):\n",
    "            previous_ll = self.loglikelihood()\n",
    "            self._fit()\n",
    "            num_iters += 1\n",
    "            ll = self.loglikelihood()\n",
    "            print('Iteration %d: log-likelihood is %.6f' % (num_iters, ll))\n",
    "        print('Terminate at %d-th iteration:log-likelihood is %.6f' %\n",
    "              (num_iters, ll))\n",
    "\n",
    "    def loglikelihood(self):\n",
    "        ll = 0\n",
    "        for i in range(self.m):\n",
    "            tmp = 0\n",
    "            for j in range(self.k):\n",
    "                #print(self.sigma_arr[j])\n",
    "                tmp += sp.stats.multivariate_normal.pdf(self.data[i, :],\n",
    "                                                        self.mean_arr[j, :].A1,\n",
    "                                                        self.sigma_arr[j, :]) *self.phi[j]\n",
    "            ll += np.log(tmp)\n",
    "        return ll\n",
    "\n",
    "    def _fit(self):\n",
    "        self.e_step()\n",
    "        self.m_step()\n",
    "\n",
    "    def e_step(self):\n",
    "        # calculate w_j^{(i)}\n",
    "        for i in range(self.m):\n",
    "            den = 0\n",
    "            for j in range(self.k):\n",
    "                num = sp.stats.multivariate_normal.pdf(self.data[i, :],\n",
    "                                                       self.mean_arr[j].A1,\n",
    "                                                       self.sigma_arr[j]) *self.phi[j]\n",
    "                    \n",
    "                den += num\n",
    "                self.w[i, j] = num\n",
    "            self.w[i, :] /= den\n",
    "            # assert self.w[i, :].sum() - 1 < 1e-4\n",
    "\n",
    "    def m_step(self):\n",
    "        for j in range(self.k):\n",
    "            const = self.w[:, j].sum()\n",
    "            self.phi[j] = 1/self.m * const\n",
    "            _mu_j = np.zeros(self.n)\n",
    "            _sigma_j = np.zeros((self.n, self.n))\n",
    "            for i in range(self.m):\n",
    "                _mu_j += (self.data[i, :] * self.w[i, j])\n",
    "                _sigma_j += self.w[i, j] * ((self.data[i, :] - self.mean_arr[j, :]).T * (\n",
    "                    self.data[i, :] - self.mean_arr[j, :]))\n",
    "                #print((self.data[i, :] - self.mean_arr[j, :]).T * (self.data[i, :] - self.mean_arr[j, :]))\n",
    "            self.mean_arr[j] = _mu_j / const\n",
    "            self.sigma_arr[j] = _sigma_j / const\n",
    "        #print(self.sigma_arr)\n"
   ]
  },
  {
   "cell_type": "code",
   "execution_count": 11,
   "metadata": {},
   "outputs": [
    {
     "name": "stdout",
     "output_type": "stream",
     "text": [
      "Iteration 1: log-likelihood is -3247.181524\n",
      "Iteration 2: log-likelihood is -2933.344486\n",
      "Iteration 3: log-likelihood is -2719.683535\n",
      "Iteration 4: log-likelihood is -2368.990678\n",
      "Iteration 5: log-likelihood is -2357.993158\n",
      "Iteration 6: log-likelihood is -2357.993158\n",
      "Iteration 7: log-likelihood is -2357.993158\n",
      "Iteration 8: log-likelihood is -2357.993158\n",
      "Iteration 9: log-likelihood is -2357.993158\n",
      "Iteration 10: log-likelihood is -2357.993158\n",
      "Terminate at 10-th iteration:log-likelihood is -2357.993158\n"
     ]
    }
   ],
   "source": [
    "gmm = GMM(X_train)\n",
    "gmm.fit()\n"
   ]
  },
  {
   "cell_type": "code",
   "execution_count": 12,
   "metadata": {},
   "outputs": [
    {
     "data": {
      "text/plain": [
       "matrix([[19.91453549, 19.97556345],\n",
       "        [-0.13607006, -0.07059606]])"
      ]
     },
     "execution_count": 12,
     "metadata": {},
     "output_type": "execute_result"
    }
   ],
   "source": [
    "gmm.mean_arr\n"
   ]
  },
  {
   "cell_type": "code",
   "execution_count": 13,
   "metadata": {},
   "outputs": [
    {
     "data": {
      "text/plain": [
       "array([[[1.02179864e+00, 3.28158679e-03],\n",
       "        [3.28158679e-03, 9.90374215e-01]],\n",
       "\n",
       "       [[1.13328030e+01, 2.25048269e+00],\n",
       "        [2.25048269e+00, 8.77008968e-01]]])"
      ]
     },
     "execution_count": 13,
     "metadata": {},
     "output_type": "execute_result"
    }
   ],
   "source": [
    "gmm.sigma_arr\n"
   ]
  },
  {
   "cell_type": "code",
   "execution_count": 18,
   "metadata": {},
   "outputs": [
    {
     "data": {
      "text/plain": [
       "matrix([[1.00000000e+000, 1.02833792e-140],\n",
       "        [1.00000000e+000, 5.49549483e-174],\n",
       "        [1.00000000e+000, 8.76788247e-119],\n",
       "        ...,\n",
       "        [3.05149231e-145, 1.00000000e+000],\n",
       "        [9.31579590e-194, 1.00000000e+000],\n",
       "        [9.49220909e-139, 1.00000000e+000]])"
      ]
     },
     "execution_count": 18,
     "metadata": {},
     "output_type": "execute_result"
    }
   ],
   "source": [
    "gmm.w"
   ]
  },
  {
   "cell_type": "code",
   "execution_count": 14,
   "metadata": {},
   "outputs": [
    {
     "data": {
      "text/plain": [
       "array([0.5, 0.5])"
      ]
     },
     "execution_count": 14,
     "metadata": {},
     "output_type": "execute_result"
    }
   ],
   "source": [
    "gmm.phi"
   ]
  }
 ],
 "metadata": {
  "kernelspec": {
   "display_name": "Python 3.9.7 64-bit",
   "language": "python",
   "name": "python3"
  },
  "language_info": {
   "codemirror_mode": {
    "name": "ipython",
    "version": 3
   },
   "file_extension": ".py",
   "mimetype": "text/x-python",
   "name": "python",
   "nbconvert_exporter": "python",
   "pygments_lexer": "ipython3",
   "version": "3.9.7"
  },
  "orig_nbformat": 4,
  "vscode": {
   "interpreter": {
    "hash": "81794d4967e6c3204c66dcd87b604927b115b27c00565d3d43f05ba2f3a2cb0d"
   }
  }
 },
 "nbformat": 4,
 "nbformat_minor": 2
}
