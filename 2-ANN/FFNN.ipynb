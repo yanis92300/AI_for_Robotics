{
 "cells": [
  {
   "cell_type": "code",
   "execution_count": 62,
   "metadata": {},
   "outputs": [],
   "source": [
    "import pandas as pd\n",
    "import numpy as np \n",
    "import math\n",
    "import matplotlib.pyplot as plt\n",
    "\n",
    "\n",
    "I=71 #Inputs \n",
    "J=3     #output\n",
    "N=2   #features \n",
    "K=4   #Number of hidden Neurons\n",
    "a=0.0001\n"
   ]
  },
  {
   "cell_type": "code",
   "execution_count": 63,
   "metadata": {},
   "outputs": [
    {
     "name": "stdout",
     "output_type": "stream",
     "text": [
      "[[1.9643 4.5957 1.    ]\n",
      " [2.2753 3.8589 1.    ]\n",
      " [2.9781 4.5651 1.    ]\n",
      " [2.932  3.5519 1.    ]\n",
      " [3.5772 2.856  1.    ]\n",
      " [4.015  3.1937 1.    ]\n",
      " [3.3814 3.4291 1.    ]\n",
      " [3.9113 4.1761 1.    ]\n",
      " [2.7822 4.0431 1.    ]\n",
      " [2.5518 4.6162 1.    ]\n",
      " [3.3698 3.9101 1.    ]\n",
      " [3.1048 3.0709 1.    ]\n",
      " [1.9182 4.0534 1.    ]\n",
      " [2.2638 4.3706 1.    ]\n",
      " [2.6555 3.5008 1.    ]\n",
      " [3.1855 4.2888 1.    ]\n",
      " [3.6579 3.8692 1.    ]\n",
      " [3.9113 3.4291 1.    ]\n",
      " [3.6002 3.1221 1.    ]\n",
      " [3.0357 3.3165 1.    ]\n",
      " [1.5841 3.3575 0.    ]\n",
      " [2.0103 3.2039 0.    ]\n",
      " [1.9527 2.7843 0.    ]\n",
      " [2.2753 2.7127 0.    ]\n",
      " [2.3099 2.9584 0.    ]\n",
      " [2.8283 2.6309 0.    ]\n",
      " [3.0473 2.2931 0.    ]\n",
      " [2.4827 2.0373 0.    ]\n",
      " [2.5057 2.3853 0.    ]\n",
      " [1.8721 2.0577 0.    ]\n",
      " [2.0103 2.3546 0.    ]\n",
      " [1.2269 2.3239 0.    ]\n",
      " [1.8951 2.9174 0.    ]\n",
      " [1.561  3.0709 0.    ]\n",
      " [1.5495 2.6923 0.    ]\n",
      " [1.6878 2.4057 0.    ]\n",
      " [1.4919 2.0271 0.    ]\n",
      " [0.962  2.682  0.    ]\n",
      " [1.1693 2.9276 0.    ]\n",
      " [0.8122 2.9992 0.    ]\n",
      " [0.9735 3.3881 0.    ]\n",
      " [1.25   3.1937 0.    ]\n",
      " [1.3191 3.5109 0.    ]\n",
      " [2.2292 2.201  0.    ]\n",
      " [2.4482 2.6411 0.    ]\n",
      " [2.7938 1.9656 0.    ]\n",
      " [2.0909 1.6177 0.    ]\n",
      " [2.5403 2.8867 0.    ]\n",
      " [0.9044 3.0198 0.    ]\n",
      " [0.7661 2.5899 0.    ]\n",
      " [0.0864 4.1045 1.    ]\n",
      " [4.6236 2.211  2.    ]\n",
      " [4.2382 1.6094 2.    ]\n",
      " [5.2964 1.5612 2.    ]\n",
      " [3.9732 1.2429 2.    ]\n",
      " [4.4475 1.3257 2.    ]\n",
      " [3.6365 2.1778 2.    ]\n",
      " [5.2574 1.5792 2.    ]\n",
      " [4.6737 1.8184 2.    ]\n",
      " [3.7154 1.6521 2.    ]\n",
      " [5.0482 1.8197 2.    ]\n",
      " [3.9196 1.4526 2.    ]\n",
      " [4.5886 1.087  2.    ]\n",
      " [5.0048 1.3946 2.    ]\n",
      " [5.2928 2.1816 2.    ]\n",
      " [3.7808 1.2195 2.    ]\n",
      " [4.7483 0.7251 2.    ]\n",
      " [4.2916 1.0857 2.    ]\n",
      " [4.7126 0.864  2.    ]\n",
      " [4.1005 1.0058 2.    ]\n",
      " [3.9601 1.4057 2.    ]]\n"
     ]
    }
   ],
   "source": [
    "dataset=np.loadtxt(\"data_ffnn_3classes.txt\")\n",
    "dataset=np.array(dataset)\n",
    "X = dataset[:, [0, 1]]\n",
    "Y=dataset[:,2]\n",
    "#print(X.shape)\n",
    "print(dataset)\n"
   ]
  },
  {
   "cell_type": "code",
   "execution_count": 64,
   "metadata": {},
   "outputs": [
    {
     "name": "stdout",
     "output_type": "stream",
     "text": [
      "[[1.     1.9643 4.5957]\n",
      " [1.     2.2753 3.8589]\n",
      " [1.     2.9781 4.5651]\n",
      " [1.     2.932  3.5519]\n",
      " [1.     3.5772 2.856 ]]\n"
     ]
    }
   ],
   "source": [
    "bias  = np.ones((71,1))\n",
    "Xbar = np.concatenate((bias, X), axis=1)\n",
    "# Xbar.shape\n",
    "print(Xbar[0:5])"
   ]
  },
  {
   "cell_type": "code",
   "execution_count": 65,
   "metadata": {},
   "outputs": [
    {
     "name": "stdout",
     "output_type": "stream",
     "text": [
      "[[0.45416616 0.25597328 0.1473082  0.11836119]\n",
      " [0.10646898 0.7183203  0.14093073 0.69058805]\n",
      " [0.22582702 0.3241258  0.28061668 0.66540563]]\n"
     ]
    }
   ],
   "source": [
    "V=np.random.rand(2+1,4)  #aleatoire a revoir entre -1 et 1  # dimension(N+1,K)\n",
    "# V.shape\n",
    "print(V)"
   ]
  },
  {
   "cell_type": "code",
   "execution_count": 66,
   "metadata": {},
   "outputs": [
    {
     "name": "stdout",
     "output_type": "stream",
     "text": [
      "[[1.70113642 3.15655475 1.71376849 4.53288794]\n",
      " [1.56785892 3.14113647 1.55083958 4.25738995]\n",
      " [1.80216437 3.87486961 1.84805719 5.21264469]\n",
      " [1.56844821 3.51335079 1.55723947 4.50661959]\n",
      " [1.47998897 3.75125191 1.45288683 4.48913122]]\n"
     ]
    }
   ],
   "source": [
    "# Xbarbar.shape\n",
    "Xbarbar = np.dot(Xbar, V)\n",
    "print(Xbarbar[0:5])\n"
   ]
  },
  {
   "cell_type": "code",
   "execution_count": 67,
   "metadata": {},
   "outputs": [],
   "source": [
    "def sigmoid(z):\n",
    "    return 1/(1+np.exp(-z))\n"
   ]
  },
  {
   "cell_type": "code",
   "execution_count": 68,
   "metadata": {},
   "outputs": [
    {
     "name": "stdout",
     "output_type": "stream",
     "text": [
      "[[0.8456831  0.95916622 0.84732444 0.98936474]\n",
      " [0.82747817 0.95855805 0.82503496 0.98603847]\n",
      " [0.8584122  0.97966505 0.86389883 0.99458226]\n",
      " [0.82756228 0.97106526 0.82595688 0.98908476]\n",
      " [0.81457092 0.97705072 0.81044232 0.98889432]\n",
      " [0.83241813 0.98486046 0.8333212  0.99341385]\n",
      " [0.83041395 0.97804072 0.83006867 0.99129624]\n",
      " [0.85980539 0.98809854 0.86650616 0.99630936]\n",
      " [0.84069728 0.97248055 0.842104   0.9912509 ]\n",
      " [0.85424817 0.97301747 0.85843086 0.9929821 ]\n",
      " [0.84500525 0.98099627 0.84805873 0.99361442]\n",
      " [0.81430406 0.97015887 0.80947704 0.98669069]\n",
      " [0.82831928 0.9501531  0.82564813 0.98432983]\n",
      " [0.84319433 0.96438525 0.8445934  0.98994855]\n",
      " [0.82163581 0.96436606 0.81816028 0.98636881]\n",
      " [0.85344121 0.98081572 0.85811872 0.99435891]\n",
      " [0.84779221 0.98429002 0.8517737  0.99461667]\n",
      " [0.83821166 0.98488741 0.84034445 0.99394743]\n",
      " [0.82383226 0.97924558 0.82212338 0.99082522]\n",
      " [0.82146862 0.97101438 0.81843746 0.98812762]\n",
      " [0.79915764 0.92287859 0.78796913 0.96912423]\n",
      " [0.80086796 0.93925939 0.79078919 0.97438288]\n",
      " [0.78428905 0.92831574 0.76920447 0.96509382]\n",
      " [0.78734845 0.94101209 0.77367795 0.97053665]\n",
      " [0.79708684 0.94655192 0.78634288 0.97544759]\n",
      " [0.7940349  0.95852644 0.78315995 0.97858816]\n",
      " [0.78523743 0.96038641 0.77210728 0.97699189]\n",
      " [0.76469132 0.93700826 0.74438715 0.96039978]\n",
      " [0.77895908 0.94422326 0.76310765 0.96880966]\n",
      " [0.7536493  0.90616592 0.72880529 0.94160833]\n",
      " [0.76851287 0.92152134 0.74863797 0.9557827 ]\n",
      " [0.75205311 0.8688144  0.7255859  0.92497739]\n",
      " [0.78830913 0.92843317 0.77435319 0.96670058]\n",
      " [0.78815776 0.91471619 0.7736517  0.96230352]\n",
      " [0.77331655 0.90392823 0.75420839 0.95165772]\n",
      " [0.76443256 0.90448684 0.74273844 0.947085  ]\n",
      " [0.74474545 0.87917818 0.71634452 0.9239659 ]\n",
      " [0.76174265 0.8601219  0.73798031 0.92872882]\n",
      " [0.77552772 0.88542274 0.75650853 0.94654141]\n",
      " [0.77170094 0.85954441 0.75089619 0.9355317 ]\n",
      " [0.78967014 0.88629361 0.77473815 0.95457092]\n",
      " [0.78725805 0.89926045 0.77200672 0.95716836]\n",
      " [0.80018731 0.91225485 0.78891988 0.96660838]\n",
      " [0.76648201 0.92894886 0.7463252  0.95780643]\n",
      " [0.78772313 0.9463745  0.77442559 0.97252079]\n",
      " [0.76772415 0.94784239 0.74887488 0.96628928]\n",
      " [0.73925549 0.90739607 0.71011319 0.93331349]\n",
      " [0.79843219 0.95330849 0.78841048 0.97797893]\n",
      " [0.77423995 0.86811767 0.75439141 0.94004429]\n",
      " [0.75410026 0.83831336 0.72751367 0.91456985]\n",
      " [0.80063568 0.83867611 0.78772656 0.94829864]\n",
      " [0.8093419  0.98653149 0.80523791 0.99169515]\n",
      " [0.78054565 0.9785848  0.7678526  0.98395393]\n",
      " [0.79748186 0.98971276 0.79114358 0.99195656]\n",
      " [0.76094531 0.97105145 0.74193165 0.97561829]\n",
      " [0.77330462 0.97977486 0.75879988 0.98324036]\n",
      " [0.79136066 0.97272222 0.78090187 0.98335409]\n",
      " [0.79746774 0.98948446 0.79107001 0.99183635]\n",
      " [0.79615177 0.98526343 0.78855705 0.98960454]\n",
      " [0.77256117 0.96953709 0.75667375 0.97776254]\n",
      " [0.80259303 0.98870471 0.79728204 0.99196138]\n",
      " [0.76843908 0.97186839 0.7516299  0.97794164]\n",
      " [0.76641606 0.98024474 0.75007518 0.98219813]\n",
      " [0.78616475 0.98665329 0.77625713 0.98904118]\n",
      " [0.81911299 0.99154924 0.81838141 0.99464926]\n",
      " [0.75622626 0.96665939 0.73543032 0.97182659]\n",
      " [0.75462995 0.98019461 0.73496573 0.97976633]\n",
      " [0.76065408 0.97565114 0.74207702 0.97821525]\n",
      " [0.75969835 0.9805673  0.74152524 0.98106705]\n",
      " [0.75359509 0.97145883 0.73251864 0.97390023]\n",
      " [0.76731986 0.97224568 0.7502359  0.97787167]]\n"
     ]
    }
   ],
   "source": [
    "F= sigmoid(Xbarbar)\n",
    "print(F)"
   ]
  },
  {
   "cell_type": "code",
   "execution_count": 69,
   "metadata": {},
   "outputs": [
    {
     "name": "stdout",
     "output_type": "stream",
     "text": [
      "[[1.         0.8456831  0.95916622 0.84732444 0.98936474]\n",
      " [1.         0.82747817 0.95855805 0.82503496 0.98603847]\n",
      " [1.         0.8584122  0.97966505 0.86389883 0.99458226]\n",
      " [1.         0.82756228 0.97106526 0.82595688 0.98908476]\n",
      " [1.         0.81457092 0.97705072 0.81044232 0.98889432]\n",
      " [1.         0.83241813 0.98486046 0.8333212  0.99341385]\n",
      " [1.         0.83041395 0.97804072 0.83006867 0.99129624]\n",
      " [1.         0.85980539 0.98809854 0.86650616 0.99630936]\n",
      " [1.         0.84069728 0.97248055 0.842104   0.9912509 ]\n",
      " [1.         0.85424817 0.97301747 0.85843086 0.9929821 ]\n",
      " [1.         0.84500525 0.98099627 0.84805873 0.99361442]\n",
      " [1.         0.81430406 0.97015887 0.80947704 0.98669069]\n",
      " [1.         0.82831928 0.9501531  0.82564813 0.98432983]\n",
      " [1.         0.84319433 0.96438525 0.8445934  0.98994855]\n",
      " [1.         0.82163581 0.96436606 0.81816028 0.98636881]\n",
      " [1.         0.85344121 0.98081572 0.85811872 0.99435891]\n",
      " [1.         0.84779221 0.98429002 0.8517737  0.99461667]\n",
      " [1.         0.83821166 0.98488741 0.84034445 0.99394743]\n",
      " [1.         0.82383226 0.97924558 0.82212338 0.99082522]\n",
      " [1.         0.82146862 0.97101438 0.81843746 0.98812762]\n",
      " [1.         0.79915764 0.92287859 0.78796913 0.96912423]\n",
      " [1.         0.80086796 0.93925939 0.79078919 0.97438288]\n",
      " [1.         0.78428905 0.92831574 0.76920447 0.96509382]\n",
      " [1.         0.78734845 0.94101209 0.77367795 0.97053665]\n",
      " [1.         0.79708684 0.94655192 0.78634288 0.97544759]\n",
      " [1.         0.7940349  0.95852644 0.78315995 0.97858816]\n",
      " [1.         0.78523743 0.96038641 0.77210728 0.97699189]\n",
      " [1.         0.76469132 0.93700826 0.74438715 0.96039978]\n",
      " [1.         0.77895908 0.94422326 0.76310765 0.96880966]\n",
      " [1.         0.7536493  0.90616592 0.72880529 0.94160833]\n",
      " [1.         0.76851287 0.92152134 0.74863797 0.9557827 ]\n",
      " [1.         0.75205311 0.8688144  0.7255859  0.92497739]\n",
      " [1.         0.78830913 0.92843317 0.77435319 0.96670058]\n",
      " [1.         0.78815776 0.91471619 0.7736517  0.96230352]\n",
      " [1.         0.77331655 0.90392823 0.75420839 0.95165772]\n",
      " [1.         0.76443256 0.90448684 0.74273844 0.947085  ]\n",
      " [1.         0.74474545 0.87917818 0.71634452 0.9239659 ]\n",
      " [1.         0.76174265 0.8601219  0.73798031 0.92872882]\n",
      " [1.         0.77552772 0.88542274 0.75650853 0.94654141]\n",
      " [1.         0.77170094 0.85954441 0.75089619 0.9355317 ]\n",
      " [1.         0.78967014 0.88629361 0.77473815 0.95457092]\n",
      " [1.         0.78725805 0.89926045 0.77200672 0.95716836]\n",
      " [1.         0.80018731 0.91225485 0.78891988 0.96660838]\n",
      " [1.         0.76648201 0.92894886 0.7463252  0.95780643]\n",
      " [1.         0.78772313 0.9463745  0.77442559 0.97252079]\n",
      " [1.         0.76772415 0.94784239 0.74887488 0.96628928]\n",
      " [1.         0.73925549 0.90739607 0.71011319 0.93331349]\n",
      " [1.         0.79843219 0.95330849 0.78841048 0.97797893]\n",
      " [1.         0.77423995 0.86811767 0.75439141 0.94004429]\n",
      " [1.         0.75410026 0.83831336 0.72751367 0.91456985]\n",
      " [1.         0.80063568 0.83867611 0.78772656 0.94829864]\n",
      " [1.         0.8093419  0.98653149 0.80523791 0.99169515]\n",
      " [1.         0.78054565 0.9785848  0.7678526  0.98395393]\n",
      " [1.         0.79748186 0.98971276 0.79114358 0.99195656]\n",
      " [1.         0.76094531 0.97105145 0.74193165 0.97561829]\n",
      " [1.         0.77330462 0.97977486 0.75879988 0.98324036]\n",
      " [1.         0.79136066 0.97272222 0.78090187 0.98335409]\n",
      " [1.         0.79746774 0.98948446 0.79107001 0.99183635]\n",
      " [1.         0.79615177 0.98526343 0.78855705 0.98960454]\n",
      " [1.         0.77256117 0.96953709 0.75667375 0.97776254]\n",
      " [1.         0.80259303 0.98870471 0.79728204 0.99196138]\n",
      " [1.         0.76843908 0.97186839 0.7516299  0.97794164]\n",
      " [1.         0.76641606 0.98024474 0.75007518 0.98219813]\n",
      " [1.         0.78616475 0.98665329 0.77625713 0.98904118]\n",
      " [1.         0.81911299 0.99154924 0.81838141 0.99464926]\n",
      " [1.         0.75622626 0.96665939 0.73543032 0.97182659]\n",
      " [1.         0.75462995 0.98019461 0.73496573 0.97976633]\n",
      " [1.         0.76065408 0.97565114 0.74207702 0.97821525]\n",
      " [1.         0.75969835 0.9805673  0.74152524 0.98106705]\n",
      " [1.         0.75359509 0.97145883 0.73251864 0.97390023]\n",
      " [1.         0.76731986 0.97224568 0.7502359  0.97787167]]\n"
     ]
    }
   ],
   "source": [
    "bias2 = np.ones((71, 1))\n",
    "Fbar = np.concatenate((bias2, F), axis=1)\n",
    "Fbar.shape #=> 71,5\n",
    "print(Fbar)\n"
   ]
  },
  {
   "cell_type": "code",
   "execution_count": 70,
   "metadata": {},
   "outputs": [
    {
     "data": {
      "text/plain": [
       "array([[0.99300498, 0.98781252, 0.52334118],\n",
       "       [0.86783265, 0.76539833, 0.30675307],\n",
       "       [0.14730639, 0.21500567, 0.76686199],\n",
       "       [0.00630516, 0.17665889, 0.9876861 ],\n",
       "       [0.40359495, 0.47147087, 0.41943398]])"
      ]
     },
     "execution_count": 70,
     "metadata": {},
     "output_type": "execute_result"
    }
   ],
   "source": [
    "W = np.random.rand(4+1, 3)  # 3 neuron output 5,3\n",
    "W\n"
   ]
  },
  {
   "cell_type": "code",
   "execution_count": 71,
   "metadata": {},
   "outputs": [
    {
     "name": "stdout",
     "output_type": "stream",
     "text": [
      "[[2.27285282 2.45746718 2.77016894]\n",
      " [2.2554814  2.43789652 2.74070799]\n",
      " [2.28912943 2.4770053  2.80835211]\n",
      " [2.25863206 2.44224912 2.75251337]\n",
      " [2.24806475 2.43076189 2.73771487]\n",
      " [2.26667188 2.45227384 2.77367134]\n",
      " [2.26305283 2.44770058 2.76372607]\n",
      " [2.29229428 2.48115977 2.81854642]\n",
      " [2.27121559 2.45648073 2.77448475]\n",
      " [2.28385623 2.4706685  2.79590521]\n",
      " [2.27720005 2.46377526 2.78920936]\n",
      " [2.24592249 2.42786638 2.73047023]\n",
      " [2.25428751 2.43603594 2.73440951]\n",
      " [2.27168019 2.45647719 2.77095525]\n",
      " [2.25135674 2.43361482 2.73671829]\n",
      " [2.28485836 2.4723215  2.80190704]\n",
      " [2.28053178 2.46774539 2.79667973]\n",
      " [2.2719633  2.45820628 2.78262976]\n",
      " [2.25727831 2.44129634 2.75458607]\n",
      " [2.25290259 2.43579447 2.74277682]\n",
      " [2.2185879  2.39402617 2.66095555]\n",
      " [2.22462531 2.4018347  2.67903299]\n",
      " [2.20474041 2.37859963 2.64034001]\n",
      " [2.21149061 2.38702749 2.65771615]\n",
      " [2.22281985 2.40022507 2.67952051]\n",
      " [2.22318265 2.40138211 2.68594065]\n",
      " [2.21510797 2.3923433  2.67308224]\n",
      " [2.18696236 2.3588712  2.61451376]\n",
      " [2.20391942 2.37861514 2.64644071]\n",
      " [2.16515408 2.33217608 2.56420301]\n",
      " [2.18616087 2.35704056 2.60607161]\n",
      " [2.15153427 2.31451383 2.52491458]\n",
      " [2.20892741 2.38336895 2.64742249]\n",
      " [2.20499639 2.37810685 2.6343199 ]\n",
      " [2.18610839 2.35597392 2.59782534]\n",
      " [2.17656301 2.34511206 2.58228185]\n",
      " [2.14625259 2.30903937 2.52106868]\n",
      " [2.16025492 2.32401953 2.53503619]\n",
      " [2.18325092 2.35168171 2.58443832]\n",
      " [2.17163902 2.33700648 2.55325826]\n",
      " [2.19900807 2.36969964 2.61081739]\n",
      " [2.19985597 2.37138346 2.6184129 ]\n",
      " [2.21690715 2.39151193 2.65300827]\n",
      " [2.18629473 2.35762865 2.60970905]\n",
      " [2.2134112  2.38953476 2.66351396]\n",
      " [2.19359555 2.36709144 2.63065509]\n",
      " [2.14937825 2.31421067 2.53878995]\n",
      " [2.22601734 2.40426621 2.68821842]\n",
      " [2.17694865 2.34353816 2.56595654]\n",
      " [2.14462958 2.30495653 2.49969122]\n",
      " [2.19906039 2.36719193 2.58786271]\n",
      " [2.246021   2.42919914 2.73941573]\n",
      " [2.21650004 2.39519575 2.6843165 ]\n",
      " [2.23621373 2.41843883 2.72440609]\n",
      " [2.19485286 2.37006478 2.64342898]\n",
      " [2.21004626 2.38797366 2.67376736]\n",
      " [2.22486225 2.40423551 2.69577524]\n",
      " [2.23611887 2.41830927 2.72410361]\n",
      " [2.23343845 2.41489831 2.71704486]\n",
      " [2.20566876 2.38224522 2.66129081]\n",
      " [2.24054152 2.42322086 2.73126581]\n",
      " [2.20247538 2.37878483 2.65690752]\n",
      " [2.20366172 2.38076953 2.66296019]\n",
      " [2.22467119 2.40511458 2.70266239]\n",
      " [2.25651495 2.44147144 2.76048167]\n",
      " [2.18853923 2.36257232 2.63060165]\n",
      " [2.19234923 2.36792194 2.64336295]\n",
      " [2.19632672 2.37208091 2.64809981]\n",
      " [2.19736898 2.37365346 2.6522278 ]\n",
      " [2.18778136 2.36205362 2.63146897]\n",
      " [2.20152263 2.37773004 2.65544734]]\n"
     ]
    }
   ],
   "source": [
    "Fbarbar=np.dot(Fbar,W)  #(71,5)*(5,3)\n",
    "Fbarbar.shape\n",
    "print(Fbarbar)\n"
   ]
  },
  {
   "cell_type": "code",
   "execution_count": 72,
   "metadata": {},
   "outputs": [
    {
     "name": "stdout",
     "output_type": "stream",
     "text": [
      "[[0.90660363 0.9211058  0.94104236]]\n"
     ]
    }
   ],
   "source": [
    "G = sigmoid(Fbarbar) #=Y\n",
    "G.shape\n",
    "print(G[0:1])\n",
    "\n"
   ]
  },
  {
   "cell_type": "code",
   "execution_count": 73,
   "metadata": {},
   "outputs": [
    {
     "data": {
      "text/plain": [
       "array([[0, 1, 0],\n",
       "       [0, 1, 0],\n",
       "       [0, 1, 0],\n",
       "       [0, 1, 0],\n",
       "       [0, 1, 0],\n",
       "       [0, 1, 0],\n",
       "       [0, 1, 0],\n",
       "       [0, 1, 0],\n",
       "       [0, 1, 0],\n",
       "       [0, 1, 0],\n",
       "       [0, 1, 0],\n",
       "       [0, 1, 0],\n",
       "       [0, 1, 0],\n",
       "       [0, 1, 0],\n",
       "       [0, 1, 0],\n",
       "       [0, 1, 0],\n",
       "       [0, 1, 0],\n",
       "       [0, 1, 0],\n",
       "       [0, 1, 0],\n",
       "       [0, 1, 0],\n",
       "       [1, 0, 0],\n",
       "       [1, 0, 0],\n",
       "       [1, 0, 0],\n",
       "       [1, 0, 0],\n",
       "       [1, 0, 0],\n",
       "       [1, 0, 0],\n",
       "       [1, 0, 0],\n",
       "       [1, 0, 0],\n",
       "       [1, 0, 0],\n",
       "       [1, 0, 0],\n",
       "       [1, 0, 0],\n",
       "       [1, 0, 0],\n",
       "       [1, 0, 0],\n",
       "       [1, 0, 0],\n",
       "       [1, 0, 0],\n",
       "       [1, 0, 0],\n",
       "       [1, 0, 0],\n",
       "       [1, 0, 0],\n",
       "       [1, 0, 0],\n",
       "       [1, 0, 0],\n",
       "       [1, 0, 0],\n",
       "       [1, 0, 0],\n",
       "       [1, 0, 0],\n",
       "       [1, 0, 0],\n",
       "       [1, 0, 0],\n",
       "       [1, 0, 0],\n",
       "       [1, 0, 0],\n",
       "       [1, 0, 0],\n",
       "       [1, 0, 0],\n",
       "       [1, 0, 0],\n",
       "       [0, 1, 0],\n",
       "       [0, 0, 1],\n",
       "       [0, 0, 1],\n",
       "       [0, 0, 1],\n",
       "       [0, 0, 1],\n",
       "       [0, 0, 1],\n",
       "       [0, 0, 1],\n",
       "       [0, 0, 1],\n",
       "       [0, 0, 1],\n",
       "       [0, 0, 1],\n",
       "       [0, 0, 1],\n",
       "       [0, 0, 1],\n",
       "       [0, 0, 1],\n",
       "       [0, 0, 1],\n",
       "       [0, 0, 1],\n",
       "       [0, 0, 1],\n",
       "       [0, 0, 1],\n",
       "       [0, 0, 1],\n",
       "       [0, 0, 1],\n",
       "       [0, 0, 1],\n",
       "       [0, 0, 1]])"
      ]
     },
     "execution_count": 73,
     "metadata": {},
     "output_type": "execute_result"
    }
   ],
   "source": [
    "yredefined =np.array(\n",
    "    [[1 if val == 0 else 0, 1 if val == 1 else 0, 1 if val == 2 else 0] for val in Y])   #construire grace a Y yredefined qui correspond à une matrice avec 1 qui est la categorie de classification definie\n",
    "    \n",
    "yredefined\n",
    "\n"
   ]
  },
  {
   "cell_type": "code",
   "execution_count": 74,
   "metadata": {},
   "outputs": [
    {
     "name": "stdout",
     "output_type": "stream",
     "text": [
      "[[0.90660363 0.9211058  0.94104236]\n",
      " [0.9051223  0.91967183 0.93938642]\n",
      " [0.90797273 0.922514   0.94312549]\n",
      " [0.90539252 0.91999279 0.94005514]\n",
      " [0.90448347 0.91914317 0.93921577]\n",
      " [0.90607895 0.92072757 0.94123638]\n",
      " [0.90577051 0.92039314 0.94068388]\n",
      " [0.90823684 0.92281045 0.94366985]\n",
      " [0.9064649  0.92103408 0.94128135]\n",
      " [0.90753116 0.92205982 0.94245415]\n",
      " [0.90697107 0.92156299 0.94208993]\n",
      " [0.90429824 0.91892772 0.93880086]\n",
      " [0.90501973 0.91953427 0.9390268 ]\n",
      " [0.90650429 0.92103383 0.94108597]\n",
      " [0.9047675  0.91935495 0.93915885]\n",
      " [0.90761523 0.92217853 0.94277879]\n",
      " [0.9072518  0.92184949 0.94249614]\n",
      " [0.90652828 0.92115949 0.94172992]\n",
      " [0.9052765  0.91992263 0.94017183]\n",
      " [0.90490061 0.9195164  0.93950411]\n",
      " [0.90190634 0.91637063 0.93468303]\n",
      " [0.90243918 0.9169671  0.93577803]\n",
      " [0.90067439 0.91518079 0.9334131 ]\n",
      " [0.90127664 0.91583272 0.93448498]\n",
      " [0.90228011 0.91684446 0.93580733]\n",
      " [0.90231209 0.91693264 0.93619192]\n",
      " [0.90159803 0.91624158 0.93541948]\n",
      " [0.8990726  0.91363678 0.93178984]\n",
      " [0.90060092 0.915182   0.93379128]\n",
      " [0.8970764  0.91150702 0.92852191]\n",
      " [0.89899985 0.91349222 0.93125132]\n",
      " [0.89581206 0.91007196 0.92587007]\n",
      " [0.90104834 0.91555028 0.93385195]\n",
      " [0.90069729 0.91514253 0.93303795]\n",
      " [0.89899509 0.9134079  0.93072149]\n",
      " [0.89812503 0.91254492 0.92971253]\n",
      " [0.89531808 0.90962291 0.92560568]\n",
      " [0.89662318 0.91084689 0.92656178]\n",
      " [0.89873532 0.91306781 0.92985332]\n",
      " [0.89767362 0.91189588 0.9277921 ]\n",
      " [0.9001604  0.91448738 0.93155453]\n",
      " [0.90023658 0.91461896 0.93203724]\n",
      " [0.90175754 0.91617775 0.93419616]\n",
      " [0.899012   0.91353869 0.93148383]\n",
      " [0.90144739 0.91602579 0.93483905]\n",
      " [0.89967291 0.91428319 0.93280862]\n",
      " [0.89561066 0.91004714 0.92681679]\n",
      " [0.90256167 0.91715205 0.93632785]\n",
      " [0.89816031 0.91241923 0.9286382 ]\n",
      " [0.89516586 0.90928671 0.92412017]\n",
      " [0.9001651  0.91429107 0.93007635]\n",
      " [0.90430676 0.91902696 0.9393128 ]\n",
      " [0.90172147 0.91646022 0.93609483]\n",
      " [0.90345471 0.91822259 0.93845152]\n",
      " [0.89978634 0.91451593 0.93360483]\n",
      " [0.90114805 0.91590563 0.93546085]\n",
      " [0.90246004 0.91714971 0.93677689]\n",
      " [0.90344643 0.91821286 0.93843405]\n",
      " [0.90321236 0.91795634 0.93802496]\n",
      " [0.90075741 0.91546335 0.93470349]\n",
      " [0.90383154 0.91858096 0.93884655]\n",
      " [0.90047158 0.91519517 0.93443546]\n",
      " [0.90057785 0.91534908 0.93480531]\n",
      " [0.90244322 0.91721649 0.93718356]\n",
      " [0.90521102 0.91993553 0.94050259]\n",
      " [0.8992156  0.91392837 0.93280527]\n",
      " [0.89956036 0.91434826 0.93360074]\n",
      " [0.89991916 0.91467341 0.93389378]\n",
      " [0.900013   0.91479606 0.93414817]\n",
      " [0.89914689 0.91388756 0.93285961]\n",
      " [0.90038616 0.91511327 0.93434594]]\n"
     ]
    }
   ],
   "source": [
    "def forward(V, W):\n",
    "    Xbarbar = np.dot(Xbar, V)\n",
    "    F = sigmoid(Xbarbar)\n",
    "    bias2 = np.ones((71, 1))\n",
    "    Fbar = np.concatenate((bias2, F), axis=1)\n",
    "    Fbarbar = np.dot(Fbar, W)\n",
    "    G = sigmoid(Fbarbar)\n",
    "    return F, G, Fbar\n",
    "\n",
    "F,G,Fbar= forward(V,W)\n",
    "print(G)\n"
   ]
  },
  {
   "cell_type": "code",
   "execution_count": 61,
   "metadata": {},
   "outputs": [
    {
     "data": {
      "text/plain": [
       "(71, 3)"
      ]
     },
     "execution_count": 61,
     "metadata": {},
     "output_type": "execute_result"
    }
   ],
   "source": [
    "G[0:5]\n",
    "G.shape\n"
   ]
  },
  {
   "cell_type": "code",
   "execution_count": 14,
   "metadata": {},
   "outputs": [],
   "source": [
    "def error(G,yredefined):\n",
    "    E=0\n",
    "    for i in range(G.shape[0]):\n",
    "        for j in range(G.shape[1]):\n",
    "            ypred=G[i][j]\n",
    "            # ypred=G[i].argmax()\n",
    "            E=E+(np.square(ypred-yredefined[i][j]))/2\n",
    "    return E"
   ]
  },
  {
   "cell_type": "code",
   "execution_count": 15,
   "metadata": {},
   "outputs": [],
   "source": [
    "def backward(G,Fbar,F):\n",
    "    dW = 0\n",
    "    dV = 0\n",
    "\n",
    "    for k in range(K+1):\n",
    "        for j in range(J):\n",
    "            for i in range(I):\n",
    "                dW += (G[i][j]-yredefined[i][j])*G[i][j]*(1-G[i][j])*Fbar[i][k]\n",
    "            W[k][j] = W[k][j]-a*dW\n",
    "\n",
    "    for k in range(K-1):\n",
    "        for j in range(J):\n",
    "            for i in range(I):\n",
    "                dV += (G[i][j]-yredefined[i][j])*G[i][j] *(1-G[i][j])*F[i][k]*(1-F[i][k])*W[k][j]\n",
    "        V[k][j] = V[k][j]-a*dV\n",
    "    return V,W\n",
    "\n",
    "  "
   ]
  },
  {
   "cell_type": "code",
   "execution_count": 16,
   "metadata": {},
   "outputs": [
    {
     "data": {
      "text/plain": [
       "<matplotlib.collections.PathCollection at 0x24245dcc550>"
      ]
     },
     "execution_count": 16,
     "metadata": {},
     "output_type": "execute_result"
    },
    {
     "data": {
      "image/png": "[encoded data removed]",
      "text/plain": [
       "<Figure size 432x288 with 1 Axes>"
      ]
     },
     "metadata": {
      "needs_background": "light"
     },
     "output_type": "display_data"
    }
   ],
   "source": [
    "plt.scatter(X[:, 0], X[:, 1], c=Y, cmap='viridis')"
   ]
  },
  {
   "cell_type": "code",
   "execution_count": 17,
   "metadata": {},
   "outputs": [],
   "source": [
    "# def sigmoid_derivative(z):\n",
    "#     return np.exp(-z)/((1+np.exp(-z))**2)\n"
   ]
  },
  {
   "cell_type": "code",
   "execution_count": 18,
   "metadata": {},
   "outputs": [],
   "source": [
    "# dW=0\n",
    "# for k in range(K+1):\n",
    "#     for j in range(J):\n",
    "#         for i in range(I):\n",
    "#             dW += (G[i][j]-yredefined[i][j])*G[i][j]*(1-G[i][j])*Fbar[i][k]\n",
    "#         W[k][j] = W[k][j]-a*dW\n",
    "    \n",
    "\n",
    "    "
   ]
  },
  {
   "cell_type": "code",
   "execution_count": 19,
   "metadata": {},
   "outputs": [],
   "source": [
    "# dV=0\n",
    "# for k in range(K-1):\n",
    "#     for j in range(J):\n",
    "#         for i in range(I):\n",
    "#             dV += (G[i][j]-yredefined[i][j])*G[i][j]*(1-G[i][j])*F[i][k]*(1-F[i][k])*W[j][k]\n",
    "#     V[k][j] = V[k][j]-a*dV\n",
    "\n",
    "\n"
   ]
  },
  {
   "cell_type": "code",
   "execution_count": 20,
   "metadata": {},
   "outputs": [
    {
     "data": {
      "text/plain": [
       "[<matplotlib.lines.Line2D at 0x24247f2a1f0>]"
      ]
     },
     "execution_count": 20,
     "metadata": {},
     "output_type": "execute_result"
    },
    {
     "data": {
      "image/png": "[encoded data removed]",
      "text/plain": [
       "<Figure size 432x288 with 1 Axes>"
      ]
     },
     "metadata": {
      "needs_background": "light"
     },
     "output_type": "display_data"
    }
   ],
   "source": [
    "errors=[]\n",
    "for itera in range(10000):  \n",
    "   # print(E)\n",
    "   F,G,Fbar= forward(V,W)\n",
    "   E= error(G,yredefined)\n",
    "   V,W=backward(G,Fbar,F)\n",
    "   errors.append(E)\n",
    "        \n",
    "   # print(E) \n",
    " \n",
    "plt.plot(errors)\n",
    "\n",
    "\n",
    "\n",
    "   \n",
    "\n",
    "\n",
    "\n",
    "   \n",
    "\n",
    "    \n",
    "    \n",
    "    "
   ]
  }
 ],
 "metadata": {
  "kernelspec": {
   "display_name": "Python 3.9.7 64-bit",
   "language": "python",
   "name": "python3"
  },
  "language_info": {
   "codemirror_mode": {
    "name": "ipython",
    "version": 3
   },
   "file_extension": ".py",
   "mimetype": "text/x-python",
   "name": "python",
   "nbconvert_exporter": "python",
   "pygments_lexer": "ipython3",
   "version": "3.9.7"
  },
  "orig_nbformat": 4,
  "vscode": {
   "interpreter": {
    "hash": "81794d4967e6c3204c66dcd87b604927b115b27c00565d3d43f05ba2f3a2cb0d"
   }
  }
 },
 "nbformat": 4,
 "nbformat_minor": 2
}
