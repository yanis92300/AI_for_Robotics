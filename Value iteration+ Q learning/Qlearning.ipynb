{
 "cells": [
  {
   "cell_type": "code",
   "execution_count": 1,
   "metadata": {},
   "outputs": [],
   "source": [
    "import pandas as pd\n",
    "import numpy as np\n",
    "import math\n",
    "import matplotlib.pyplot as plt\n",
    "Gamma = 0.99\n",
    "rows = 3\n",
    "cols = 4\n",
    "delta = 0.1\n",
    "epsilon =0.1\n"
   ]
  },
  {
   "cell_type": "code",
   "execution_count": 2,
   "metadata": {},
   "outputs": [],
   "source": [
    "##Define V,S,R\n",
    "Q = np.zeros((11,4))\n",
    "R = []\n",
    "S = []\n"
   ]
  },
  {
   "cell_type": "code",
   "execution_count": 3,
   "metadata": {},
   "outputs": [],
   "source": [
    "#Define R\n",
    "def initR_S(R,S):\n",
    "    # Empty array that is going to be filled with 11 states  (11*1)\n",
    "    for i in range(rows):\n",
    "        for j in range(cols):\n",
    "           \n",
    "            if (i == 0 and j == 3):\n",
    "                R.append(1)\n",
    "                S.append ([i,j])\n",
    "               \n",
    "            if (i == 1 and j == 3):\n",
    "                R.append(-1)\n",
    "                S.append([i, j])\n",
    "            if (i == 1 and j == 1):\n",
    "                continue \n",
    "            if(((i == 1 and j == 1) == False) and ((i == 1 and j == 3) == False) and ((i == 0 and j == 3) == False)):\n",
    "                S.append([i, j])\n",
    "                R.append(-0.02)\n",
    "        \n",
    "    return R,S,"
   ]
  },
  {
   "cell_type": "code",
   "execution_count": 4,
   "metadata": {},
   "outputs": [],
   "source": [
    "R,S = initR_S(R,S)\n",
    "\n",
    "\n"
   ]
  },
  {
   "cell_type": "code",
   "execution_count": 5,
   "metadata": {},
   "outputs": [
    {
     "data": {
      "text/plain": [
       "-1"
      ]
     },
     "execution_count": 5,
     "metadata": {},
     "output_type": "execute_result"
    }
   ],
   "source": [
    "actions = [[-1,0],[1,0],[0,1],[0,-1]] #Nord South , East , West \n",
    "actions[0][0]"
   ]
  },
  {
   "cell_type": "code",
   "execution_count": 6,
   "metadata": {},
   "outputs": [
    {
     "data": {
      "text/plain": [
       "2"
      ]
     },
     "execution_count": 6,
     "metadata": {},
     "output_type": "execute_result"
    }
   ],
   "source": [
    "def nextState(currentState,action,actions):\n",
    "    newState = currentState.copy()\n",
    "    if action==0:#nord\n",
    "        newState[0]=newState[0]+actions[0][0]#  \n",
    "    if action==1:#sud\n",
    "        newState[0]=newState[0]+actions[1][0]#  \n",
    "    if action==2:#east\n",
    "        newState[1]=newState[1]+actions[2][1]#  \n",
    "    if action ==3:#west\n",
    "        newState[1]=newState[1]+actions[3][1]#  \n",
    "       \n",
    "    return newState\n",
    "\n",
    "# while(True):\n",
    "\n",
    "2\n",
    "\n",
    "\n",
    "\n",
    "\n"
   ]
  },
  {
   "cell_type": "code",
   "execution_count": 7,
   "metadata": {},
   "outputs": [],
   "source": [
    "def correspondanceIndex(state): \n",
    "    index=0\n",
    "    for s in range(len(S)):\n",
    "        if(S[s]==state):\n",
    "            return index\n",
    "        index += 1\n",
    "\n",
    "    "
   ]
  },
  {
   "cell_type": "code",
   "execution_count": 8,
   "metadata": {},
   "outputs": [],
   "source": [
    "def oneiteration(R,S):\n",
    "    oldQ= Q.copy()\n",
    "    while(True):\n",
    "        \n",
    "       \n",
    "    \n",
    "        S0= [np.random.randint(rows),np.random.randint(cols)]#choose rando S0\n",
    "        currentState = S0\n",
    "        currentReward=0\n",
    "        # print(currentState)\n",
    "        current_action =0\n",
    "        while(True):#repeat until condition satisfied\n",
    "            m=np.random.random() \n",
    "            if(m<epsilon):\n",
    "                    current_action= np.random.randint(4)#current action random   \n",
    "                    # print(current_action)\n",
    "                    newstate = nextState(currentState, current_action, actions) #next state base on the action\n",
    "                    if newstate[0] < 0 or newstate[0] > 3 or newstate[1] <0  or newstate[1] > 2:  #si c est pas out of bounds\n",
    "                        newstate = currentState\n",
    "                # print(newstate) \n",
    "            else:  # quand m > epsilon\n",
    "                current_action = np.argmax(Q[correspondanceIndex(currentState)])\n",
    "                currentReward = R[correspondanceIndex(currentState)]    \n",
    "            Q[correspondanceIndex(currentState)][current_action]=(1-Gamma)*Q[correspondanceIndex(currentState)][current_action]\n",
    "            +Gamma*(currentReward+Gamma*max(Q[correspondanceIndex(newstate)]))\n",
    "            if currentState==[0,3]or currentState==[1,3]:\n",
    "                break\n",
    "            currentState = newstate  # attribue le new state\n",
    "        \n",
    "            if(compareArray(oldQ, Q) == 11):\n",
    "                break\n",
    "\n",
    "            return  Q\n",
    "\n",
    "        \n"
   ]
  },
  {
   "cell_type": "code",
   "execution_count": 9,
   "metadata": {},
   "outputs": [],
   "source": [
    "def compareArray(oldQ, Q):\n",
    "    conv = 0\n",
    "    for i in range(len(Q)):\n",
    "        if(Q[i]-oldQ[i] <= delta):\n",
    "            conv += 1\n",
    "    return conv\n"
   ]
  },
  {
   "cell_type": "code",
   "execution_count": 10,
   "metadata": {},
   "outputs": [
    {
     "ename": "UnboundLocalError",
     "evalue": "local variable 'newstate' referenced before assignment",
     "output_type": "error",
     "traceback": [
      "\u001b[1;31m---------------------------------------------------------------------------\u001b[0m",
      "\u001b[1;31mUnboundLocalError\u001b[0m                         Traceback (most recent call last)",
      "\u001b[1;32m~\\AppData\\Local\\Temp/ipykernel_88/4229552698.py\u001b[0m in \u001b[0;36m<module>\u001b[1;34m\u001b[0m\n\u001b[1;32m----> 1\u001b[1;33m \u001b[0mQ\u001b[0m\u001b[1;33m=\u001b[0m\u001b[0moneiteration\u001b[0m\u001b[1;33m(\u001b[0m\u001b[0mR\u001b[0m\u001b[1;33m,\u001b[0m\u001b[0mS\u001b[0m\u001b[1;33m)\u001b[0m\u001b[1;33m\u001b[0m\u001b[1;33m\u001b[0m\u001b[0m\n\u001b[0m\u001b[0;32m      2\u001b[0m \u001b[0mQ\u001b[0m\u001b[1;33m\u001b[0m\u001b[1;33m\u001b[0m\u001b[0m\n\u001b[0;32m      3\u001b[0m \u001b[1;33m\u001b[0m\u001b[0m\n\u001b[0;32m      4\u001b[0m \u001b[1;33m\u001b[0m\u001b[0m\n\u001b[0;32m      5\u001b[0m \u001b[1;33m\u001b[0m\u001b[0m\n",
      "\u001b[1;32m~\\AppData\\Local\\Temp/ipykernel_88/2284283374.py\u001b[0m in \u001b[0;36moneiteration\u001b[1;34m(R, S)\u001b[0m\n\u001b[0;32m     24\u001b[0m \u001b[1;33m\u001b[0m\u001b[0m\n\u001b[0;32m     25\u001b[0m             \u001b[0mQ\u001b[0m\u001b[1;33m[\u001b[0m\u001b[0mcorrespondanceIndex\u001b[0m\u001b[1;33m(\u001b[0m\u001b[0mcurrentState\u001b[0m\u001b[1;33m)\u001b[0m\u001b[1;33m]\u001b[0m\u001b[1;33m[\u001b[0m\u001b[0mcurrent_action\u001b[0m\u001b[1;33m]\u001b[0m\u001b[1;33m=\u001b[0m\u001b[1;33m(\u001b[0m\u001b[1;36m1\u001b[0m\u001b[1;33m-\u001b[0m\u001b[0mGamma\u001b[0m\u001b[1;33m)\u001b[0m\u001b[1;33m*\u001b[0m\u001b[0mQ\u001b[0m\u001b[1;33m[\u001b[0m\u001b[0mcorrespondanceIndex\u001b[0m\u001b[1;33m(\u001b[0m\u001b[0mcurrentState\u001b[0m\u001b[1;33m)\u001b[0m\u001b[1;33m]\u001b[0m\u001b[1;33m[\u001b[0m\u001b[0mcurrent_action\u001b[0m\u001b[1;33m]\u001b[0m\u001b[1;33m\u001b[0m\u001b[1;33m\u001b[0m\u001b[0m\n\u001b[1;32m---> 26\u001b[1;33m             \u001b[1;33m+\u001b[0m\u001b[0mGamma\u001b[0m\u001b[1;33m*\u001b[0m\u001b[1;33m(\u001b[0m\u001b[0mcurrentReward\u001b[0m\u001b[1;33m+\u001b[0m\u001b[0mGamma\u001b[0m\u001b[1;33m*\u001b[0m\u001b[0mmax\u001b[0m\u001b[1;33m(\u001b[0m\u001b[0mQ\u001b[0m\u001b[1;33m[\u001b[0m\u001b[0mcorrespondanceIndex\u001b[0m\u001b[1;33m(\u001b[0m\u001b[0mnewstate\u001b[0m\u001b[1;33m)\u001b[0m\u001b[1;33m]\u001b[0m\u001b[1;33m)\u001b[0m\u001b[1;33m)\u001b[0m\u001b[1;33m\u001b[0m\u001b[1;33m\u001b[0m\u001b[0m\n\u001b[0m\u001b[0;32m     27\u001b[0m             \u001b[1;32mif\u001b[0m \u001b[0mcurrentState\u001b[0m\u001b[1;33m==\u001b[0m\u001b[1;33m[\u001b[0m\u001b[1;36m0\u001b[0m\u001b[1;33m,\u001b[0m\u001b[1;36m3\u001b[0m\u001b[1;33m]\u001b[0m\u001b[1;32mor\u001b[0m \u001b[0mcurrentState\u001b[0m\u001b[1;33m==\u001b[0m\u001b[1;33m[\u001b[0m\u001b[1;36m1\u001b[0m\u001b[1;33m,\u001b[0m\u001b[1;36m3\u001b[0m\u001b[1;33m]\u001b[0m\u001b[1;33m:\u001b[0m\u001b[1;33m\u001b[0m\u001b[1;33m\u001b[0m\u001b[0m\n\u001b[0;32m     28\u001b[0m                 \u001b[1;32mbreak\u001b[0m\u001b[1;33m\u001b[0m\u001b[1;33m\u001b[0m\u001b[0m\n",
      "\u001b[1;31mUnboundLocalError\u001b[0m: local variable 'newstate' referenced before assignment"
     ]
    }
   ],
   "source": [
    "Q=oneiteration(R,S)\n",
    "Q\n",
    "\n",
    "    \n",
    "\n"
   ]
  }
 ],
 "metadata": {
  "interpreter": {
   "hash": "63fd5069d213b44bf678585dea6b12cceca9941eaf7f819626cde1f2670de90d"
  },
  "kernelspec": {
   "display_name": "Python 3.9.7 64-bit",
   "language": "python",
   "name": "python3"
  },
  "language_info": {
   "codemirror_mode": {
    "name": "ipython",
    "version": 3
   },
   "file_extension": ".py",
   "mimetype": "text/x-python",
   "name": "python",
   "nbconvert_exporter": "python",
   "pygments_lexer": "ipython3",
   "version": "3.9.7"
  },
  "orig_nbformat": 4
 },
 "nbformat": 4,
 "nbformat_minor": 2
}
